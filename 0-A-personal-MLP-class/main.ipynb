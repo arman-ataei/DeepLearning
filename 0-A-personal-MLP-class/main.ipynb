{
 "cells": [
  {
   "cell_type": "code",
   "execution_count": 1,
   "metadata": {},
   "outputs": [],
   "source": [
    "import numpy as np"
   ]
  },
  {
   "cell_type": "code",
   "execution_count": 32,
   "metadata": {},
   "outputs": [],
   "source": [
    "from Perceptron import Perceptron\n",
    "from Loss import Loss\n",
    "Loss.AbE\n",
    "Loss.MAbE\n",
    "Loss.SqE\n",
    "Loss.SqE"
   ]
  },
  {
   "cell_type": "markdown",
   "metadata": {},
   "source": [
    "\n",
    "1. every `Perceptron` is a `Neuron`\n",
    "\n",
    "2. every `Neuron` has :\n",
    "    + a `Loss` function:\n",
    "        + `Loss.AbE`\n",
    "        + `Loss.MAbE`\n",
    "        + `Loss.SqE`\n",
    "        + `Loss.SqE`\n",
    "    + an `Activation` function:\n",
    "        + `Activation.binary`\n",
    "        + `Activation.linear`\n",
    "        + `Activation.relu`\n",
    "        + `Activation.sigmoid`\n",
    "        + `Activation.tanh`\n",
    "\n",
    "3. every `Neuron` can `calculate` it's out-put on a given `data-set`\n",
    "\n",
    "4. every `Perceptron` has:\n",
    "    + an `Optimizer` function:\n",
    "        + `Optimizer.grad`\n",
    "\n",
    "5. every `Perceptron` can perform:\n",
    "    + `BGD` Batch Gradient Descent\n",
    "    + `SGD`Stochastic Gradient Discent\n",
    "    + `mGD` mini Batch Gradient Descent\n"
   ]
  },
  {
   "cell_type": "code",
   "execution_count": 4,
   "metadata": {},
   "outputs": [],
   "source": [
    "class Layer:\n",
    "    def __init__(self) -> None:\n",
    "        pass\n",
    "    "
   ]
  },
  {
   "cell_type": "code",
   "execution_count": 5,
   "metadata": {},
   "outputs": [],
   "source": [
    "class MLP:\n",
    "    def __init__(self) -> None:\n",
    "        pass"
   ]
  },
  {
   "cell_type": "code",
   "execution_count": 96,
   "metadata": {},
   "outputs": [
    {
     "name": "stderr",
     "output_type": "stream",
     "text": [
      "C:\\Users\\Arman At\\AppData\\Local\\Temp\\ipykernel_24572\\4244229438.py:7: VisibleDeprecationWarning: Creating an ndarray from ragged nested sequences (which is a list-or-tuple of lists-or-tuples-or ndarrays with different lengths or shapes) is deprecated. If you meant to do this, you must specify 'dtype=object' when creating the ndarray.\n",
      "  data = np.array([(x[i,:] , y[i]) for i in range(1000) ]);\n"
     ]
    }
   ],
   "source": [
    "\n",
    "#+ creating a dataset\n",
    "\n",
    "x = np.random.uniform(low=0, high=1,size=(1000, 4))\n",
    "y = np.random.uniform(0,1, 1000)\n",
    "#+ changing the dataset shape\n",
    "# data = np.array([(x[i][:] , y[i]) for i in range(1000) ]);\n",
    "data = np.array([(x[i,:] , y[i]) for i in range(1000) ]);"
   ]
  },
  {
   "cell_type": "code",
   "execution_count": 101,
   "metadata": {},
   "outputs": [
    {
     "data": {
      "text/plain": [
       "0.7359169045938435"
      ]
     },
     "execution_count": 101,
     "metadata": {},
     "output_type": "execute_result"
    }
   ],
   "source": [
    "data[1][1]"
   ]
  },
  {
   "cell_type": "code",
   "execution_count": 23,
   "metadata": {},
   "outputs": [
    {
     "data": {
      "text/plain": [
       "1000"
      ]
     },
     "execution_count": 23,
     "metadata": {},
     "output_type": "execute_result"
    }
   ],
   "source": [
    "np.size(data[:,1])"
   ]
  },
  {
   "cell_type": "code",
   "execution_count": 39,
   "metadata": {},
   "outputs": [
    {
     "data": {
      "text/plain": [
       "0.2586902598184616"
      ]
     },
     "execution_count": 39,
     "metadata": {},
     "output_type": "execute_result"
    }
   ],
   "source": [
    "data[2][1]"
   ]
  },
  {
   "cell_type": "code",
   "execution_count": 151,
   "metadata": {},
   "outputs": [],
   "source": [
    "from Activation import Activation\n",
    "from Neuron import Neuron"
   ]
  },
  {
   "cell_type": "code",
   "execution_count": 152,
   "metadata": {},
   "outputs": [],
   "source": [
    "my_act = Activation()\n",
    "\n",
    "# print(my_act.sigmoid(10))\n",
    "my_neuron = Neuron(num_features=4,act_func= my_act.sigmoid)\n"
   ]
  },
  {
   "cell_type": "code",
   "execution_count": 153,
   "metadata": {},
   "outputs": [
    {
     "data": {
      "text/plain": [
       "0.35069499443787056"
      ]
     },
     "execution_count": 153,
     "metadata": {},
     "output_type": "execute_result"
    }
   ],
   "source": [
    "my_neuron.Loss.AbE(data=data[1])"
   ]
  },
  {
   "cell_type": "code",
   "execution_count": 111,
   "metadata": {},
   "outputs": [
    {
     "name": "stdout",
     "output_type": "stream",
     "text": [
      "[0.74894629 0.57861209 0.64655495 0.63651734]\n"
     ]
    }
   ],
   "source": [
    "my_perceptron = Perceptron(num_featuress=4, act_func= my_act.tanh)\n",
    "# my_loss = Loss(my_perceptron)\n",
    "print(my_perceptron.weights)"
   ]
  },
  {
   "cell_type": "code",
   "execution_count": 143,
   "metadata": {},
   "outputs": [
    {
     "data": {
      "text/plain": [
       "0.0012417738552928203"
      ]
     },
     "execution_count": 143,
     "metadata": {},
     "output_type": "execute_result"
    }
   ],
   "source": [
    "my_perceptron.Loss.MAbE(data=data)"
   ]
  },
  {
   "cell_type": "code",
   "execution_count": 144,
   "metadata": {},
   "outputs": [
    {
     "data": {
      "text/plain": [
       "array([0.36875943, 0.19842523, 0.26636809, 0.25633048])"
      ]
     },
     "execution_count": 144,
     "metadata": {},
     "output_type": "execute_result"
    }
   ],
   "source": [
    "my_perceptron.BGD(data=data,alpha= 10, epoch=1000)\n"
   ]
  },
  {
   "cell_type": "code",
   "execution_count": 145,
   "metadata": {},
   "outputs": [
    {
     "data": {
      "text/plain": [
       "0.0012347672592972292"
      ]
     },
     "execution_count": 145,
     "metadata": {},
     "output_type": "execute_result"
    }
   ],
   "source": [
    "my_perceptron.Loss.MAbE(data=data)"
   ]
  },
  {
   "cell_type": "code",
   "execution_count": 146,
   "metadata": {},
   "outputs": [
    {
     "data": {
      "text/plain": [
       "array([0.34601189, 0.69584514, 0.14833455, 0.26978107])"
      ]
     },
     "execution_count": 146,
     "metadata": {},
     "output_type": "execute_result"
    }
   ],
   "source": [
    "data[10][0]"
   ]
  },
  {
   "cell_type": "code",
   "execution_count": 147,
   "metadata": {},
   "outputs": [
    {
     "data": {
      "text/plain": [
       "0.0012347672592972292"
      ]
     },
     "execution_count": 147,
     "metadata": {},
     "output_type": "execute_result"
    }
   ],
   "source": [
    "my_perceptron.Loss.MAbE(data=data)"
   ]
  },
  {
   "cell_type": "code",
   "execution_count": 148,
   "metadata": {},
   "outputs": [
    {
     "name": "stdout",
     "output_type": "stream",
     "text": [
      "305\n"
     ]
    },
    {
     "data": {
      "text/plain": [
       "array([0.36875943, 0.19842523, 0.26636809, 0.25633048])"
      ]
     },
     "execution_count": 148,
     "metadata": {},
     "output_type": "execute_result"
    }
   ],
   "source": [
    "my_perceptron.SGD(data=data, lss_fun='AbE')"
   ]
  },
  {
   "cell_type": "code",
   "execution_count": 149,
   "metadata": {},
   "outputs": [
    {
     "data": {
      "text/plain": [
       "0.0012347672592972162"
      ]
     },
     "execution_count": 149,
     "metadata": {},
     "output_type": "execute_result"
    }
   ],
   "source": [
    "my_perceptron.Loss.MAbE(data=data)\n"
   ]
  }
 ],
 "metadata": {
  "kernelspec": {
   "display_name": "Python 3",
   "language": "python",
   "name": "python3"
  },
  "language_info": {
   "codemirror_mode": {
    "name": "ipython",
    "version": 3
   },
   "file_extension": ".py",
   "mimetype": "text/x-python",
   "name": "python",
   "nbconvert_exporter": "python",
   "pygments_lexer": "ipython3",
   "version": "3.9.7"
  }
 },
 "nbformat": 4,
 "nbformat_minor": 2
}
