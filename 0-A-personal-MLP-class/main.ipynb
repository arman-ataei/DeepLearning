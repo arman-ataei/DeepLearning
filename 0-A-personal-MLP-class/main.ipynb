{
 "cells": [
  {
   "cell_type": "code",
   "execution_count": 2,
   "metadata": {},
   "outputs": [],
   "source": [
    "import numpy as np"
   ]
  },
  {
   "cell_type": "code",
   "execution_count": 3,
   "metadata": {},
   "outputs": [],
   "source": [
    "from Perceptron import Perceptron\n",
    "from Activation import Activation\n",
    "from Neuron import Neuron\n",
    "from Optimizer import Optimizer\n"
   ]
  },
  {
   "cell_type": "markdown",
   "metadata": {},
   "source": [
    "\n",
    "1. every `Perceptron` is a `Neuron`\n",
    "\n",
    "2. every `Neuron` has :\n",
    "    + a `Loss` function:\n",
    "        + `Loss.AbE`\n",
    "        + `Loss.MAbE`\n",
    "        + `Loss.SqE`\n",
    "        + `Loss.SqE`\n",
    "    + an `Activation` function:\n",
    "        + `Activation.binary`\n",
    "        + `Activation.linear`\n",
    "        + `Activation.relu`\n",
    "        + `Activation.sigmoid`\n",
    "        + `Activation.tanh`\n",
    "\n",
    "3. every `Neuron` can `calculate` it's out-put on a given `data-set`\n",
    "\n",
    "4. every `Perceptron` has:\n",
    "    + an `Optimizer` function:\n",
    "        + `Optimizer.grad`\n",
    "\n",
    "5. every `Perceptron` can perform:\n",
    "    + `BGD` Batch Gradient Descent\n",
    "    + `SGD`Stochastic Gradient Discent\n",
    "    + `mGD` mini Batch Gradient Descent\n"
   ]
  },
  {
   "cell_type": "code",
   "execution_count": 24,
   "metadata": {},
   "outputs": [],
   "source": [
    "from typing import Literal, get_args\n",
    "from Loss import _Losses\n",
    "class Layer:\n",
    "    def __init__(self, n_neuron: int, num_features: int ,**kwargs) -> None:\n",
    "        self.num_features = num_features\n",
    "        self.weightss = kwargs.get('weights', np.random.uniform(0,1, size=(n_neuron,num_features)))\n",
    "        self.bioses = kwargs.get('bios', np.zeros(n_neuron) )\n",
    "        self.n_neuron = n_neuron\n",
    "        self.Losses = []\n",
    "        act_tmp = kwargs.get('act_func', None)\n",
    "        if act_tmp:\n",
    "            self.active = act_tmp\n",
    "        else:\n",
    "            act_tmp = Activation()\n",
    "            self.active = act_tmp.linear\n",
    "        self.perceptrons = []\n",
    "        for i in range(n_neuron):\n",
    "            p = Perceptron(num_featuress=num_features, weights =self.weightss[i], act_func = self.active, bios=self.bioses[i])\n",
    "            self.perceptrons.append(p)\n",
    "\n",
    "    def calculate(self, data):\n",
    "        self.outputs = []\n",
    "        for i in range(self.n_neuron):\n",
    "            output = self.perceptrons[i].calculate(data)\n",
    "            self.outputs.append(output)\n",
    "        \n",
    "        return self.outputs\n",
    "    # TODO: `loss` function should compute loss of the layer on a given set of data and a given loss_function from the class Loss\n",
    "    \n",
    "    def loss(data: np.array, lss_func):\n",
    "        pass\n",
    "        # lss_func = lss_func\n",
    "        # for percept in self.perceptrons:\n",
    "        #     l = percept.Loss\n",
    "    def BGD(self, data: np.array, alpha: float = 0.1,delta=0.001, epoch=4, lss_fun='MAbE'):\n",
    "        \"\"\" \n",
    "        batch gradient descent\n",
    "\n",
    "        data: X |Y \n",
    "        last element of each record is the label of that record\n",
    "        \"\"\"\n",
    "        options = get_args(_Losses)\n",
    "        assert lss_fun in options, f\" '{lss_fun}' is not in {options}\"\n",
    "        \n",
    "        for perceptron in self.perceptrons:\n",
    "            new_weights = perceptron.weights\n",
    "            grad = perceptron.optimize.grad\n",
    "            \n",
    "            tmp_neuron = Neuron(num_features=perceptron.num_features, \n",
    "                                active=perceptron.active,\n",
    "                                weights= new_weights,\n",
    "                                bios= perceptron.bios)\n",
    "            for i in range(epoch):\n",
    "                tmp_neuron.weights = new_weights\n",
    "                new_weights -= alpha * grad(nueron= tmp_neuron,\n",
    "                                            loss_fun= lss_fun,\n",
    "                                            data= data,\n",
    "                                            delta=delta)\n",
    "            perceptron.weights = new_weights\n"
   ]
  },
  {
   "cell_type": "code",
   "execution_count": null,
   "metadata": {},
   "outputs": [],
   "source": [
    "class MLP:\n",
    "    def __init__(self) -> None:\n",
    "        pass"
   ]
  },
  {
   "cell_type": "code",
   "execution_count": 5,
   "metadata": {},
   "outputs": [
    {
     "name": "stderr",
     "output_type": "stream",
     "text": [
      "C:\\Users\\Arman At\\AppData\\Local\\Temp\\ipykernel_16972\\4244229438.py:7: VisibleDeprecationWarning: Creating an ndarray from ragged nested sequences (which is a list-or-tuple of lists-or-tuples-or ndarrays with different lengths or shapes) is deprecated. If you meant to do this, you must specify 'dtype=object' when creating the ndarray.\n",
      "  data = np.array([(x[i,:] , y[i]) for i in range(1000) ]);\n"
     ]
    }
   ],
   "source": [
    "\n",
    "#+ creating a dataset\n",
    "\n",
    "x = np.random.uniform(low=0, high=1,size=(1000, 4))\n",
    "y = np.random.uniform(0,1, 1000)\n",
    "#+ changing the dataset shape\n",
    "# data = np.array([(x[i][:] , y[i]) for i in range(1000) ]);\n",
    "data = np.array([(x[i,:] , y[i]) for i in range(1000) ]);"
   ]
  },
  {
   "cell_type": "code",
   "execution_count": 6,
   "metadata": {},
   "outputs": [
    {
     "data": {
      "text/plain": [
       "0.7249580925681886"
      ]
     },
     "execution_count": 6,
     "metadata": {},
     "output_type": "execute_result"
    }
   ],
   "source": [
    "data[1][1]"
   ]
  },
  {
   "cell_type": "code",
   "execution_count": 7,
   "metadata": {},
   "outputs": [
    {
     "data": {
      "text/plain": [
       "1000"
      ]
     },
     "execution_count": 7,
     "metadata": {},
     "output_type": "execute_result"
    }
   ],
   "source": [
    "np.size(data[:,1])"
   ]
  },
  {
   "cell_type": "code",
   "execution_count": null,
   "metadata": {},
   "outputs": [
    {
     "data": {
      "text/plain": [
       "0.2586902598184616"
      ]
     },
     "execution_count": 39,
     "metadata": {},
     "output_type": "execute_result"
    }
   ],
   "source": [
    "data[2][1]"
   ]
  },
  {
   "cell_type": "code",
   "execution_count": null,
   "metadata": {},
   "outputs": [],
   "source": [
    "my_act = Activation()\n",
    "\n",
    "# print(my_act.sigmoid(10))\n",
    "my_neuron = Neuron(num_features=4,act_func= my_act.sigmoid)\n"
   ]
  },
  {
   "cell_type": "code",
   "execution_count": null,
   "metadata": {},
   "outputs": [
    {
     "data": {
      "text/plain": [
       "0.35069499443787056"
      ]
     },
     "execution_count": 153,
     "metadata": {},
     "output_type": "execute_result"
    }
   ],
   "source": [
    "my_neuron.Loss.AbE(data=data[1])"
   ]
  },
  {
   "cell_type": "code",
   "execution_count": null,
   "metadata": {},
   "outputs": [
    {
     "name": "stdout",
     "output_type": "stream",
     "text": [
      "[0.74894629 0.57861209 0.64655495 0.63651734]\n"
     ]
    }
   ],
   "source": [
    "my_perceptron = Perceptron(num_featuress=4, act_func= my_act.tanh)\n",
    "# my_loss = Loss(my_perceptron)\n",
    "print(my_perceptron.weights)"
   ]
  },
  {
   "cell_type": "code",
   "execution_count": null,
   "metadata": {},
   "outputs": [
    {
     "data": {
      "text/plain": [
       "0.0012417738552928203"
      ]
     },
     "execution_count": 143,
     "metadata": {},
     "output_type": "execute_result"
    }
   ],
   "source": [
    "my_perceptron.Loss.MAbE(data=data)"
   ]
  },
  {
   "cell_type": "code",
   "execution_count": null,
   "metadata": {},
   "outputs": [
    {
     "data": {
      "text/plain": [
       "array([0.36875943, 0.19842523, 0.26636809, 0.25633048])"
      ]
     },
     "execution_count": 144,
     "metadata": {},
     "output_type": "execute_result"
    }
   ],
   "source": [
    "my_perceptron.BGD(data=data,alpha= 10, epoch=1000)\n"
   ]
  },
  {
   "cell_type": "code",
   "execution_count": null,
   "metadata": {},
   "outputs": [
    {
     "data": {
      "text/plain": [
       "0.0012347672592972292"
      ]
     },
     "execution_count": 145,
     "metadata": {},
     "output_type": "execute_result"
    }
   ],
   "source": [
    "my_perceptron.Loss.MAbE(data=data)"
   ]
  },
  {
   "cell_type": "code",
   "execution_count": null,
   "metadata": {},
   "outputs": [
    {
     "data": {
      "text/plain": [
       "array([0.34601189, 0.69584514, 0.14833455, 0.26978107])"
      ]
     },
     "execution_count": 146,
     "metadata": {},
     "output_type": "execute_result"
    }
   ],
   "source": [
    "data[10][0]"
   ]
  },
  {
   "cell_type": "code",
   "execution_count": null,
   "metadata": {},
   "outputs": [
    {
     "data": {
      "text/plain": [
       "0.0012347672592972292"
      ]
     },
     "execution_count": 147,
     "metadata": {},
     "output_type": "execute_result"
    }
   ],
   "source": [
    "my_perceptron.Loss.MAbE(data=data)"
   ]
  },
  {
   "cell_type": "code",
   "execution_count": null,
   "metadata": {},
   "outputs": [
    {
     "name": "stdout",
     "output_type": "stream",
     "text": [
      "305\n"
     ]
    },
    {
     "data": {
      "text/plain": [
       "array([0.36875943, 0.19842523, 0.26636809, 0.25633048])"
      ]
     },
     "execution_count": 148,
     "metadata": {},
     "output_type": "execute_result"
    }
   ],
   "source": [
    "my_perceptron.SGD(data=data, lss_fun='AbE')"
   ]
  },
  {
   "cell_type": "code",
   "execution_count": null,
   "metadata": {},
   "outputs": [
    {
     "data": {
      "text/plain": [
       "0.0012347672592972162"
      ]
     },
     "execution_count": 149,
     "metadata": {},
     "output_type": "execute_result"
    }
   ],
   "source": [
    "my_perceptron.Loss.MAbE(data=data)\n"
   ]
  },
  {
   "cell_type": "code",
   "execution_count": 23,
   "metadata": {},
   "outputs": [
    {
     "data": {
      "text/plain": [
       "[(array([array([0.99943978, 1.38402481, 0.98480715, 0.97608682]),\n",
       "         1.2049823941921796], dtype=object),\n",
       "  array([array([0.99943978, 1.38402481, 0.98480715, 0.97608682]),\n",
       "         1.2049823941921796], dtype=object)),\n",
       " (array([array([0.59059842, 1.42327117, 1.20695198, 1.46868863]),\n",
       "         1.786944815855506], dtype=object),\n",
       "  array([array([0.59059842, 1.42327117, 1.20695198, 1.46868863]),\n",
       "         1.786944815855506], dtype=object)),\n",
       " (array([array([0.39375089, 0.80382041, 0.64689887, 0.84825885]),\n",
       "         0.8330715130481288], dtype=object),\n",
       "  array([array([0.39375089, 0.80382041, 0.64689887, 0.84825885]),\n",
       "         0.8330715130481288], dtype=object)),\n",
       " (array([array([0.85998611, 1.09429315, 0.8331012 , 0.94821812]),\n",
       "         1.0032261059024743], dtype=object),\n",
       "  array([array([0.85998611, 1.09429315, 0.8331012 , 0.94821812]),\n",
       "         1.0032261059024743], dtype=object)),\n",
       " (array([array([0.97103718, 1.60242683, 1.26918104, 1.50704587]),\n",
       "         1.667347937925288], dtype=object),\n",
       "  array([array([0.97103718, 1.60242683, 1.26918104, 1.50704587]),\n",
       "         1.667347937925288], dtype=object)),\n",
       " (array([array([1.06864202, 1.12995008, 1.04407588, 1.32646425]),\n",
       "         1.4300589703007536], dtype=object),\n",
       "  array([array([1.06864202, 1.12995008, 1.04407588, 1.32646425]),\n",
       "         1.4300589703007536], dtype=object)),\n",
       " (array([array([0.89510242, 1.31326648, 1.0899001 , 1.20338808]),\n",
       "         1.559905267514123], dtype=object),\n",
       "  array([array([0.89510242, 1.31326648, 1.0899001 , 1.20338808]),\n",
       "         1.559905267514123], dtype=object)),\n",
       " (array([array([0.88601898, 1.30519448, 1.1272903 , 1.52840312]),\n",
       "         1.4549752112507488], dtype=object),\n",
       "  array([array([0.88601898, 1.30519448, 1.1272903 , 1.52840312]),\n",
       "         1.4549752112507488], dtype=object)),\n",
       " (array([array([1.20342537, 1.52868495, 1.16813705, 1.19650051]),\n",
       "         1.5240516206668644], dtype=object),\n",
       "  array([array([1.20342537, 1.52868495, 1.16813705, 1.19650051]),\n",
       "         1.5240516206668644], dtype=object)),\n",
       " (array([array([1.01863184, 1.35442964, 1.123335  , 1.19935267]),\n",
       "         1.6080800865213494], dtype=object),\n",
       "  array([array([1.01863184, 1.35442964, 1.123335  , 1.19935267]),\n",
       "         1.6080800865213494], dtype=object))]"
      ]
     },
     "execution_count": 23,
     "metadata": {},
     "output_type": "execute_result"
    }
   ],
   "source": [
    "l1 = Layer(n_neuron=10, num_features= 4)\n",
    "l1.calculate(data=data)"
   ]
  }
 ],
 "metadata": {
  "kernelspec": {
   "display_name": "Python 3",
   "language": "python",
   "name": "python3"
  },
  "language_info": {
   "codemirror_mode": {
    "name": "ipython",
    "version": 3
   },
   "file_extension": ".py",
   "mimetype": "text/x-python",
   "name": "python",
   "nbconvert_exporter": "python",
   "pygments_lexer": "ipython3",
   "version": "3.9.7"
  }
 },
 "nbformat": 4,
 "nbformat_minor": 2
}
